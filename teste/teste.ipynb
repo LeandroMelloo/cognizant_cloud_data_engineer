{
 "cells": [
  {
   "cell_type": "code",
   "execution_count": 1,
   "id": "22076bc3-0dc9-42c6-b1d4-b585f15ecb22",
   "metadata": {},
   "outputs": [
    {
     "name": "stdout",
     "output_type": "stream",
     "text": [
      "oi\n"
     ]
    }
   ],
   "source": [
    "print('oi')"
   ]
  },
  {
   "cell_type": "code",
   "execution_count": 2,
   "id": "6dab3917-8bfc-4574-84a1-425aa3a15a15",
   "metadata": {},
   "outputs": [],
   "source": [
    "a = 10\n"
   ]
  },
  {
   "cell_type": "code",
   "execution_count": 3,
   "id": "64be26a9-8339-4d48-913c-17576b2c087c",
   "metadata": {},
   "outputs": [],
   "source": [
    "b = 20"
   ]
  },
  {
   "cell_type": "code",
   "execution_count": 4,
   "id": "73f201bb-4b05-4fbf-ad67-0fb7dc126b49",
   "metadata": {},
   "outputs": [
    {
     "data": {
      "text/plain": [
       "30"
      ]
     },
     "execution_count": 4,
     "metadata": {},
     "output_type": "execute_result"
    }
   ],
   "source": [
    "a + b "
   ]
  },
  {
   "cell_type": "code",
   "execution_count": null,
   "id": "225b4751-633e-4310-a76a-f73a8658d501",
   "metadata": {},
   "outputs": [],
   "source": []
  }
 ],
 "metadata": {
  "kernelspec": {
   "display_name": "Python 3 (ipykernel)",
   "language": "python",
   "name": "python3"
  },
  "language_info": {
   "codemirror_mode": {
    "name": "ipython",
    "version": 3
   },
   "file_extension": ".py",
   "mimetype": "text/x-python",
   "name": "python",
   "nbconvert_exporter": "python",
   "pygments_lexer": "ipython3",
   "version": "3.8.8"
  }
 },
 "nbformat": 4,
 "nbformat_minor": 5
}
